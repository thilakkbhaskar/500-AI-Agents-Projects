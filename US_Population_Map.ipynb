import pandas as pd
import plotly.express as px
import plotly.graph_objects as go
from dash import Dash, dcc, html, Input, Output

# Load the data
url = "https://github.com/JoshData/historical-state-population-csv/blob/primary/historical_state_population_by_year.csv?raw=true"
df = pd.read_csv(url, names=['Name', 'Year', 'Population'], header=0)

# Initialize the Dash app
app = Dash(__name__)

# Layout of the app
app.layout = html.Div([
    dcc.Graph(id='choropleth-map'),
    dcc.Graph(id='line-graph'),
])

# Callback to update the choropleth map
@app.callback(
    Output('choropleth-map', 'figure'),
    Input('choropleth-map', 'clickData')
)
def update_map(clickData):
    fig = px.choropleth(df, 
                        locations='Name', 
                        locationmode='USA-states', 
                        color='Population', 
                        hover_name='Name', 
                        animation_frame='Year',
                        scope='usa',
                        color_continuous_scale='Viridis')
    return fig

# Callback to update the line graph
@app.callback(
    Output('line-graph', 'figure'),
    Input('choropleth-map', 'clickData')
)
def update_line_graph(clickData):
    if clickData is None:
        return go.Figure()
    
    state = clickData['points'][0]['location']
    state_data = df[df['Name'] == state]
    
    fig = go.Figure()
    fig.add_trace(go.Scatter(x=state_data['Year'], y=state_data['Population'], mode='lines+markers'))
    fig.update_layout(title=f'Population Variation Over Years for {state}', xaxis_title='Year', yaxis_title='Population')
    
    return fig

# Run the app
if __name__ == '__main__':
    app.run_server(debug=True)
